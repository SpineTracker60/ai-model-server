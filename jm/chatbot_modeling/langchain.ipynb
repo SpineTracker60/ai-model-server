{
 "cells": [
  {
   "cell_type": "markdown",
   "metadata": {},
   "source": [
    "### Langchain"
   ]
  },
  {
   "cell_type": "code",
   "execution_count": 6,
   "metadata": {},
   "outputs": [
    {
     "name": "stdout",
     "output_type": "stream",
     "text": [
      "Human >>  안녕 목 스트레칭 방법좀\n",
      "Chabot >> 안녕하세요! 목 스트레칭을 위해서는 목과 어깨 근육을 풀어주는 운동을 해야합니다. 아래는 목 스트레칭을 위한 몇 가지 방법입니다:\n",
      "\n",
      "1. 어깨를 돌리기: 천천히 양쪽 어깨를 앞으로 돌리고, 뒤로 돌리는 운동을 반복합니다. 이 운동은 어깨 근육과 목 근육을 풀어줍니다.\n",
      "\n",
      "2. 목을 좌우로 움직이기: 천천히 목을 좌우로 움직이는 운동을 반복합니다. 이 운동은 목의 근육을 풀어주고 긴장을 완화시킵니다.\n",
      "\n",
      "3. 목을 늘리기: 손을 뒤로 넘기고 머리를 천천히 뒤로 젖히는 운동을 합니다. 이 운동은 목을 늘려주는데 도움이 됩니다.\n",
      "\n",
      "4. 어깨를 들고 내리기: 양쪽 어깨를 천천히 들고 내리는 운동을 반복합니다. 이 운동은 어깨 근육을 풀어주고 긴장을 완화시킵니다.\n",
      "\n",
      "이러한 운동을 꾸준히 실천하면 목의 긴장을 완화시키고 스트레칭 효과를 얻을 수 있습니다. 하지만 만약 목에 통증이나 불편한 증상이 있다면 전문가의 상담을 받는 것이 좋습니다.\n",
      "Human >>  오 그러면 허리 스트레칭 방법좀\n",
      "Chabot >> 허리 스트레칭을 위해서는 허리 근육을 풀어주는 운동을 해야합니다. 아래는 몇 가지 허리 스트레칭 방법입니다:\n",
      "\n",
      "1. 허리 굽히기: 양쪽 다리를 어깨 너비로 벌리고, 천천히 상체를 앞으로 굽히는 운동을 반복합니다. 이 운동은 허리 근육을 풀어주고 유연성을 향상시킵니다.\n",
      "\n",
      "2. 허리 틀기: 두 손을 허리에 얹고, 천천히 상체를 좌우로 틀어주는 운동을 합니다. 이 운동은 허리 근육을 풀어주고 허리의 유연성을 높여줍니다.\n",
      "\n",
      "3. 허리 늘이기: 바닥에 엎드려 누운 뒤, 양손을 어깨 밑에 놓고 천천히 상체를 들어올립니다. 이 운동은 허리를 늘려주는데 도움이 됩니다.\n",
      "\n",
      "4. 허리를 펴기: 의자에 앉아 허리를 펴주는 운동을 합니다. 이 운동은 허리 근육을 풀어주고 자세를 개선시켜줍니다.\n",
      "\n",
      "이러한 운동을 꾸준히 실천하면 허리의 긴장을 완화시키고 스트레칭 효과를 얻을 수 있습니다. 하지만 만약 허리에 통증이나 불편한 증상이 있다면 전문가의 상담을 받는 것이 좋습니다.\n",
      "Human >>  음 요약좀 해줄래?\n",
      "Chabot >> 목 스트레칭 방법:\n",
      "1. 어깨를 돌리기\n",
      "2. 목을 좌우로 움직이기\n",
      "3. 목을 늘리기\n",
      "4. 어깨를 들고 내리기\n",
      "\n",
      "허리 스트레칭 방법:\n",
      "1. 허리 굽히기\n",
      "2. 허리 틀기\n",
      "3. 허리 늘이기\n",
      "4. 허리를 펴기\n",
      "\n",
      "이러한 운동을 꾸준히 실천하면 목과 허리의 긴장을 완화시키고 스트레칭 효과를 얻을 수 있습니다. 전문가의 상담을 받는 것이 좋습니다.\n",
      "Human >>  quit\n"
     ]
    }
   ],
   "source": [
    "from pathlib import Path\n",
    "import json\n",
    "import pickle\n",
    "\n",
    "from langchain.chat_models import ChatOpenAI\n",
    "from langchain.prompts import ChatPromptTemplate\n",
    "from langchain.prompts.prompt import PromptTemplate\n",
    "from langchain.chains import ConversationChain\n",
    "from langchain.memory import ConversationBufferWindowMemory\n",
    "\n",
    "class OpenAIChat():\n",
    "    def __init__(self) -> None:\n",
    "        self.prompt = self.get_prompt()\n",
    "        self.model = self.get_model()\n",
    "    \n",
    "    def get_model(self) -> ChatOpenAI:\n",
    "        secret_path = Path(\"resource\").joinpath(\"secret.json\")\n",
    "        secrets = json.loads(open(secret_path).read())\n",
    "        openai_api_key = secrets[\"OPENAI_API_KEY\"]\n",
    "        chat_model = ChatOpenAI(model=\"gpt-3.5-turbo\", openai_api_key=openai_api_key)\n",
    "        conversation = ConversationChain(\n",
    "            prompt=self.prompt,\n",
    "            llm=chat_model,\n",
    "            verbose=False,\n",
    "            memory=ConversationBufferWindowMemory(memory_key='history', ai_prefix=\"AI Assistant\", k=5)\n",
    "        )\n",
    "        return conversation\n",
    "    \n",
    "    def get_prompt(self) -> ChatPromptTemplate:\n",
    "        template = \"\"\"\n",
    "\n",
    "        \n",
    "Current conversation:\n",
    "{history}\n",
    "Human: {input}\n",
    "AI Assistant:\"\"\"\n",
    "\n",
    "        prompt = PromptTemplate(input_variables=[\"history\",\"input\"], template=template)\n",
    "        return prompt\n",
    "    \n",
    "    def get_answer(self, text) -> str:\n",
    "        return self.model.predict(input=text)\n",
    "        \n",
    "        \n",
    "if __name__ == '__main__':\n",
    "    openai_chatbot = OpenAIChat()\n",
    "\n",
    "    while True:\n",
    "        text = input(\"Human >> \")\n",
    "        print(\"Human >> \",text)\n",
    "        if 'quit' in text:\n",
    "            break\n",
    "\n",
    "        result = openai_chatbot.get_answer(text)\n",
    "        print(\"Chabot >> \" + result)"
   ]
  },
  {
   "cell_type": "code",
   "execution_count": null,
   "metadata": {},
   "outputs": [],
   "source": []
  }
 ],
 "metadata": {
  "kernelspec": {
   "display_name": "lang",
   "language": "python",
   "name": "python3"
  },
  "language_info": {
   "codemirror_mode": {
    "name": "ipython",
    "version": 3
   },
   "file_extension": ".py",
   "mimetype": "text/x-python",
   "name": "python",
   "nbconvert_exporter": "python",
   "pygments_lexer": "ipython3",
   "version": "3.8.17"
  },
  "orig_nbformat": 4
 },
 "nbformat": 4,
 "nbformat_minor": 2
}
